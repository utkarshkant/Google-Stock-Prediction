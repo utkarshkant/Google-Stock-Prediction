{
  "nbformat": 4,
  "nbformat_minor": 0,
  "metadata": {
    "colab": {
      "name": "Stock Prediction Program.ipynb",
      "provenance": []
    },
    "kernelspec": {
      "name": "python3",
      "display_name": "Python 3"
    }
  },
  "cells": [
    {
      "cell_type": "markdown",
      "metadata": {
        "id": "IC9oMhw-U_xn",
        "colab_type": "text"
      },
      "source": [
        "# Stock Prediction Program\n",
        "Objective : Build a program that predicts price of Google's stock for a specific day using machine learning\n"
      ]
    },
    {
      "cell_type": "markdown",
      "metadata": {
        "id": "5AqOrbtWVxdQ",
        "colab_type": "text"
      },
      "source": [
        "## 1. Import Dependencies"
      ]
    },
    {
      "cell_type": "code",
      "metadata": {
        "id": "Ss4bgXgsVEyI",
        "colab_type": "code",
        "colab": {}
      },
      "source": [
        "# import libraries\n",
        "# import quandl\n",
        "import numpy as np\n",
        "import pandas as pd\n",
        "import matplotlib.pyplot as plt\n",
        "import seaborn as sns"
      ],
      "execution_count": 0,
      "outputs": []
    },
    {
      "cell_type": "code",
      "metadata": {
        "id": "EFGGBLdafHbX",
        "colab_type": "code",
        "colab": {
          "resources": {
            "http://localhost:8080/nbextensions/google.colab/files.js": {
              "data": "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",
              "ok": true,
              "headers": [
                [
                  "content-type",
                  "application/javascript"
                ]
              ],
              "status": 200,
              "status_text": ""
            }
          },
          "base_uri": "https://localhost:8080/",
          "height": 74
        },
        "outputId": "48d84c0f-cde3-48e1-d143-f75c13c5612a"
      },
      "source": [
        "# load dataset\n",
        "from google.colab import files\n",
        "uploaded = files.upload()"
      ],
      "execution_count": 8,
      "outputs": [
        {
          "output_type": "display_data",
          "data": {
            "text/html": [
              "\n",
              "     <input type=\"file\" id=\"files-4ad38884-731f-47b0-a6f9-49f637f901d7\" name=\"files[]\" multiple disabled />\n",
              "     <output id=\"result-4ad38884-731f-47b0-a6f9-49f637f901d7\">\n",
              "      Upload widget is only available when the cell has been executed in the\n",
              "      current browser session. Please rerun this cell to enable.\n",
              "      </output>\n",
              "      <script src=\"/nbextensions/google.colab/files.js\"></script> "
            ],
            "text/plain": [
              "<IPython.core.display.HTML object>"
            ]
          },
          "metadata": {
            "tags": []
          }
        },
        {
          "output_type": "stream",
          "text": [
            "Saving google_30_days_stock.csv to google_30_days_stock.csv\n"
          ],
          "name": "stdout"
        }
      ]
    },
    {
      "cell_type": "markdown",
      "metadata": {
        "id": "1YlvvJzbkgYF",
        "colab_type": "text"
      },
      "source": [
        "## 2. Explore Dataset"
      ]
    },
    {
      "cell_type": "code",
      "metadata": {
        "id": "s5Oib7jFfXeq",
        "colab_type": "code",
        "colab": {}
      },
      "source": [
        "# load dataset\n",
        "df = pd.read_csv('google_30_days_stock.csv')"
      ],
      "execution_count": 0,
      "outputs": []
    },
    {
      "cell_type": "code",
      "metadata": {
        "id": "W_vsDnnNgclb",
        "colab_type": "code",
        "colab": {
          "base_uri": "https://localhost:8080/",
          "height": 195
        },
        "outputId": "0b572831-c520-45e5-eb4f-f169440867d3"
      },
      "source": [
        "# top 5 rows\n",
        "df.head()"
      ],
      "execution_count": 11,
      "outputs": [
        {
          "output_type": "execute_result",
          "data": {
            "text/html": [
              "<div>\n",
              "<style scoped>\n",
              "    .dataframe tbody tr th:only-of-type {\n",
              "        vertical-align: middle;\n",
              "    }\n",
              "\n",
              "    .dataframe tbody tr th {\n",
              "        vertical-align: top;\n",
              "    }\n",
              "\n",
              "    .dataframe thead th {\n",
              "        text-align: right;\n",
              "    }\n",
              "</style>\n",
              "<table border=\"1\" class=\"dataframe\">\n",
              "  <thead>\n",
              "    <tr style=\"text-align: right;\">\n",
              "      <th></th>\n",
              "      <th>Date</th>\n",
              "      <th>Open</th>\n",
              "      <th>High</th>\n",
              "      <th>Low</th>\n",
              "      <th>Close</th>\n",
              "      <th>Adj Close</th>\n",
              "      <th>Volume</th>\n",
              "    </tr>\n",
              "  </thead>\n",
              "  <tbody>\n",
              "    <tr>\n",
              "      <th>0</th>\n",
              "      <td>2019-06-03</td>\n",
              "      <td>1065.500000</td>\n",
              "      <td>1065.500000</td>\n",
              "      <td>1025.000000</td>\n",
              "      <td>1036.229980</td>\n",
              "      <td>1036.229980</td>\n",
              "      <td>5130600</td>\n",
              "    </tr>\n",
              "    <tr>\n",
              "      <th>1</th>\n",
              "      <td>2019-06-04</td>\n",
              "      <td>1042.900024</td>\n",
              "      <td>1056.050049</td>\n",
              "      <td>1033.689941</td>\n",
              "      <td>1053.050049</td>\n",
              "      <td>1053.050049</td>\n",
              "      <td>2833500</td>\n",
              "    </tr>\n",
              "    <tr>\n",
              "      <th>2</th>\n",
              "      <td>2019-06-05</td>\n",
              "      <td>1051.540039</td>\n",
              "      <td>1053.550049</td>\n",
              "      <td>1030.489990</td>\n",
              "      <td>1042.219971</td>\n",
              "      <td>1042.219971</td>\n",
              "      <td>2168400</td>\n",
              "    </tr>\n",
              "    <tr>\n",
              "      <th>3</th>\n",
              "      <td>2019-06-06</td>\n",
              "      <td>1044.989990</td>\n",
              "      <td>1047.489990</td>\n",
              "      <td>1033.699951</td>\n",
              "      <td>1044.339966</td>\n",
              "      <td>1044.339966</td>\n",
              "      <td>1703200</td>\n",
              "    </tr>\n",
              "    <tr>\n",
              "      <th>4</th>\n",
              "      <td>2019-06-07</td>\n",
              "      <td>1050.630005</td>\n",
              "      <td>1070.920044</td>\n",
              "      <td>1048.400024</td>\n",
              "      <td>1066.040039</td>\n",
              "      <td>1066.040039</td>\n",
              "      <td>1802400</td>\n",
              "    </tr>\n",
              "  </tbody>\n",
              "</table>\n",
              "</div>"
            ],
            "text/plain": [
              "         Date         Open         High  ...        Close    Adj Close   Volume\n",
              "0  2019-06-03  1065.500000  1065.500000  ...  1036.229980  1036.229980  5130600\n",
              "1  2019-06-04  1042.900024  1056.050049  ...  1053.050049  1053.050049  2833500\n",
              "2  2019-06-05  1051.540039  1053.550049  ...  1042.219971  1042.219971  2168400\n",
              "3  2019-06-06  1044.989990  1047.489990  ...  1044.339966  1044.339966  1703200\n",
              "4  2019-06-07  1050.630005  1070.920044  ...  1066.040039  1066.040039  1802400\n",
              "\n",
              "[5 rows x 7 columns]"
            ]
          },
          "metadata": {
            "tags": []
          },
          "execution_count": 11
        }
      ]
    },
    {
      "cell_type": "code",
      "metadata": {
        "id": "C7y68Shagcgl",
        "colab_type": "code",
        "colab": {
          "base_uri": "https://localhost:8080/",
          "height": 134
        },
        "outputId": "3982f5b7-7e69-4f4b-8180-53d6fb717adc"
      },
      "source": [
        "# features in dataset\n",
        "for i in df.columns: print(i)"
      ],
      "execution_count": 13,
      "outputs": [
        {
          "output_type": "stream",
          "text": [
            "Date\n",
            "Open\n",
            "High\n",
            "Low\n",
            "Close\n",
            "Adj Close\n",
            "Volume\n"
          ],
          "name": "stdout"
        }
      ]
    },
    {
      "cell_type": "markdown",
      "metadata": {
        "id": "yGKzNN49fsnV",
        "colab_type": "text"
      },
      "source": [
        "Data Dictionary\n",
        "- `Date` : Date\n",
        "- `Open` : Open price of the stock\n",
        "- `High` : Highest price value in the day\n",
        "- `Low`  : Lowest price value in the day\n",
        "- `Close`: Closing price of the day"
      ]
    },
    {
      "cell_type": "code",
      "metadata": {
        "id": "uSTZCoeUgcj5",
        "colab_type": "code",
        "colab": {
          "base_uri": "https://localhost:8080/",
          "height": 50
        },
        "outputId": "ec4a09dc-7e8a-4117-8be3-5b81bfb8393c"
      },
      "source": [
        "# get dimensions of dataset\n",
        "print(\"Rows    : \", df.shape[0])\n",
        "print(\"Columns : \", df.shape[1])"
      ],
      "execution_count": 14,
      "outputs": [
        {
          "output_type": "stream",
          "text": [
            "Rows    :  20\n",
            "Columns :  7\n"
          ],
          "name": "stdout"
        }
      ]
    },
    {
      "cell_type": "code",
      "metadata": {
        "id": "1VsMTtzjge9m",
        "colab_type": "code",
        "colab": {
          "base_uri": "https://localhost:8080/",
          "height": 284
        },
        "outputId": "9b104cfe-66be-4e0b-9ddc-1941d1b9c31f"
      },
      "source": [
        "# metadata - stats\n",
        "df.describe()"
      ],
      "execution_count": 16,
      "outputs": [
        {
          "output_type": "execute_result",
          "data": {
            "text/html": [
              "<div>\n",
              "<style scoped>\n",
              "    .dataframe tbody tr th:only-of-type {\n",
              "        vertical-align: middle;\n",
              "    }\n",
              "\n",
              "    .dataframe tbody tr th {\n",
              "        vertical-align: top;\n",
              "    }\n",
              "\n",
              "    .dataframe thead th {\n",
              "        text-align: right;\n",
              "    }\n",
              "</style>\n",
              "<table border=\"1\" class=\"dataframe\">\n",
              "  <thead>\n",
              "    <tr style=\"text-align: right;\">\n",
              "      <th></th>\n",
              "      <th>Open</th>\n",
              "      <th>High</th>\n",
              "      <th>Low</th>\n",
              "      <th>Close</th>\n",
              "      <th>Adj Close</th>\n",
              "      <th>Volume</th>\n",
              "    </tr>\n",
              "  </thead>\n",
              "  <tbody>\n",
              "    <tr>\n",
              "      <th>count</th>\n",
              "      <td>20.000000</td>\n",
              "      <td>20.000000</td>\n",
              "      <td>20.000000</td>\n",
              "      <td>20.000000</td>\n",
              "      <td>20.000000</td>\n",
              "      <td>2.000000e+01</td>\n",
              "    </tr>\n",
              "    <tr>\n",
              "      <th>mean</th>\n",
              "      <td>1084.027002</td>\n",
              "      <td>1091.008508</td>\n",
              "      <td>1072.817352</td>\n",
              "      <td>1081.122504</td>\n",
              "      <td>1081.122504</td>\n",
              "      <td>1.704840e+06</td>\n",
              "    </tr>\n",
              "    <tr>\n",
              "      <th>std</th>\n",
              "      <td>24.280330</td>\n",
              "      <td>23.334569</td>\n",
              "      <td>26.193657</td>\n",
              "      <td>23.950249</td>\n",
              "      <td>23.950249</td>\n",
              "      <td>9.246559e+05</td>\n",
              "    </tr>\n",
              "    <tr>\n",
              "      <th>min</th>\n",
              "      <td>1042.900024</td>\n",
              "      <td>1047.489990</td>\n",
              "      <td>1025.000000</td>\n",
              "      <td>1036.229980</td>\n",
              "      <td>1036.229980</td>\n",
              "      <td>9.416000e+05</td>\n",
              "    </tr>\n",
              "    <tr>\n",
              "      <th>25%</th>\n",
              "      <td>1071.109985</td>\n",
              "      <td>1078.427551</td>\n",
              "      <td>1062.755035</td>\n",
              "      <td>1073.517517</td>\n",
              "      <td>1073.517517</td>\n",
              "      <td>1.224375e+06</td>\n",
              "    </tr>\n",
              "    <tr>\n",
              "      <th>50%</th>\n",
              "      <td>1085.140015</td>\n",
              "      <td>1092.829956</td>\n",
              "      <td>1076.446533</td>\n",
              "      <td>1080.645019</td>\n",
              "      <td>1080.645019</td>\n",
              "      <td>1.450450e+06</td>\n",
              "    </tr>\n",
              "    <tr>\n",
              "      <th>75%</th>\n",
              "      <td>1106.509980</td>\n",
              "      <td>1108.837494</td>\n",
              "      <td>1088.080017</td>\n",
              "      <td>1094.957489</td>\n",
              "      <td>1094.957489</td>\n",
              "      <td>1.804525e+06</td>\n",
              "    </tr>\n",
              "    <tr>\n",
              "      <th>max</th>\n",
              "      <td>1119.989990</td>\n",
              "      <td>1124.109985</td>\n",
              "      <td>1111.010010</td>\n",
              "      <td>1121.880005</td>\n",
              "      <td>1121.880005</td>\n",
              "      <td>5.130600e+06</td>\n",
              "    </tr>\n",
              "  </tbody>\n",
              "</table>\n",
              "</div>"
            ],
            "text/plain": [
              "              Open         High  ...    Adj Close        Volume\n",
              "count    20.000000    20.000000  ...    20.000000  2.000000e+01\n",
              "mean   1084.027002  1091.008508  ...  1081.122504  1.704840e+06\n",
              "std      24.280330    23.334569  ...    23.950249  9.246559e+05\n",
              "min    1042.900024  1047.489990  ...  1036.229980  9.416000e+05\n",
              "25%    1071.109985  1078.427551  ...  1073.517517  1.224375e+06\n",
              "50%    1085.140015  1092.829956  ...  1080.645019  1.450450e+06\n",
              "75%    1106.509980  1108.837494  ...  1094.957489  1.804525e+06\n",
              "max    1119.989990  1124.109985  ...  1121.880005  5.130600e+06\n",
              "\n",
              "[8 rows x 6 columns]"
            ]
          },
          "metadata": {
            "tags": []
          },
          "execution_count": 16
        }
      ]
    },
    {
      "cell_type": "code",
      "metadata": {
        "id": "UizYczmIgjH_",
        "colab_type": "code",
        "colab": {
          "base_uri": "https://localhost:8080/",
          "height": 218
        },
        "outputId": "e3abc0e5-932d-47f6-e115-c41dbd3f7a72"
      },
      "source": [
        "# metadata - features\n",
        "df.info()"
      ],
      "execution_count": 17,
      "outputs": [
        {
          "output_type": "stream",
          "text": [
            "<class 'pandas.core.frame.DataFrame'>\n",
            "RangeIndex: 20 entries, 0 to 19\n",
            "Data columns (total 7 columns):\n",
            "Date         20 non-null object\n",
            "Open         20 non-null float64\n",
            "High         20 non-null float64\n",
            "Low          20 non-null float64\n",
            "Close        20 non-null float64\n",
            "Adj Close    20 non-null float64\n",
            "Volume       20 non-null int64\n",
            "dtypes: float64(5), int64(1), object(1)\n",
            "memory usage: 1.2+ KB\n"
          ],
          "name": "stdout"
        }
      ]
    },
    {
      "cell_type": "markdown",
      "metadata": {
        "id": "31cJWk4Xgmya",
        "colab_type": "text"
      },
      "source": [
        "- All float & int datatypes\n",
        "- Date is object\n",
        "- No missing data"
      ]
    },
    {
      "cell_type": "markdown",
      "metadata": {
        "id": "VzL3L0fjgcYr",
        "colab_type": "text"
      },
      "source": [
        "## 3. Data Preparation - Create X & y datasets\n",
        "\n",
        "- X = independent variables \n",
        "- y = Dependent variables"
      ]
    },
    {
      "cell_type": "code",
      "metadata": {
        "id": "FB2OcoIXgcew",
        "colab_type": "code",
        "colab": {
          "base_uri": "https://localhost:8080/",
          "height": 77
        },
        "outputId": "dcfc9147-73ba-4933-c120-ea7f8ecbdac9"
      },
      "source": [
        "# get the last row of the dataset\n",
        "# this will be used to make predictions\n",
        "df.tail(1)"
      ],
      "execution_count": 19,
      "outputs": [
        {
          "output_type": "execute_result",
          "data": {
            "text/html": [
              "<div>\n",
              "<style scoped>\n",
              "    .dataframe tbody tr th:only-of-type {\n",
              "        vertical-align: middle;\n",
              "    }\n",
              "\n",
              "    .dataframe tbody tr th {\n",
              "        vertical-align: top;\n",
              "    }\n",
              "\n",
              "    .dataframe thead th {\n",
              "        text-align: right;\n",
              "    }\n",
              "</style>\n",
              "<table border=\"1\" class=\"dataframe\">\n",
              "  <thead>\n",
              "    <tr style=\"text-align: right;\">\n",
              "      <th></th>\n",
              "      <th>Date</th>\n",
              "      <th>Open</th>\n",
              "      <th>High</th>\n",
              "      <th>Low</th>\n",
              "      <th>Close</th>\n",
              "      <th>Adj Close</th>\n",
              "      <th>Volume</th>\n",
              "    </tr>\n",
              "  </thead>\n",
              "  <tbody>\n",
              "    <tr>\n",
              "      <th>19</th>\n",
              "      <td>2019-06-28</td>\n",
              "      <td>1076.390015</td>\n",
              "      <td>1081.0</td>\n",
              "      <td>1073.369995</td>\n",
              "      <td>1080.910034</td>\n",
              "      <td>1080.910034</td>\n",
              "      <td>1693200</td>\n",
              "    </tr>\n",
              "  </tbody>\n",
              "</table>\n",
              "</div>"
            ],
            "text/plain": [
              "          Date         Open    High  ...        Close    Adj Close   Volume\n",
              "19  2019-06-28  1076.390015  1081.0  ...  1080.910034  1080.910034  1693200\n",
              "\n",
              "[1 rows x 7 columns]"
            ]
          },
          "metadata": {
            "tags": []
          },
          "execution_count": 19
        }
      ]
    },
    {
      "cell_type": "code",
      "metadata": {
        "id": "FlphJV48hPcD",
        "colab_type": "code",
        "colab": {
          "base_uri": "https://localhost:8080/",
          "height": 195
        },
        "outputId": "81598ce1-087c-49c0-9a1a-b19878288c9f"
      },
      "source": [
        "# get all data except the last row\n",
        "df = df.head(len(df)-1)\n",
        "df.head()"
      ],
      "execution_count": 20,
      "outputs": [
        {
          "output_type": "execute_result",
          "data": {
            "text/html": [
              "<div>\n",
              "<style scoped>\n",
              "    .dataframe tbody tr th:only-of-type {\n",
              "        vertical-align: middle;\n",
              "    }\n",
              "\n",
              "    .dataframe tbody tr th {\n",
              "        vertical-align: top;\n",
              "    }\n",
              "\n",
              "    .dataframe thead th {\n",
              "        text-align: right;\n",
              "    }\n",
              "</style>\n",
              "<table border=\"1\" class=\"dataframe\">\n",
              "  <thead>\n",
              "    <tr style=\"text-align: right;\">\n",
              "      <th></th>\n",
              "      <th>Date</th>\n",
              "      <th>Open</th>\n",
              "      <th>High</th>\n",
              "      <th>Low</th>\n",
              "      <th>Close</th>\n",
              "      <th>Adj Close</th>\n",
              "      <th>Volume</th>\n",
              "    </tr>\n",
              "  </thead>\n",
              "  <tbody>\n",
              "    <tr>\n",
              "      <th>0</th>\n",
              "      <td>2019-06-03</td>\n",
              "      <td>1065.500000</td>\n",
              "      <td>1065.500000</td>\n",
              "      <td>1025.000000</td>\n",
              "      <td>1036.229980</td>\n",
              "      <td>1036.229980</td>\n",
              "      <td>5130600</td>\n",
              "    </tr>\n",
              "    <tr>\n",
              "      <th>1</th>\n",
              "      <td>2019-06-04</td>\n",
              "      <td>1042.900024</td>\n",
              "      <td>1056.050049</td>\n",
              "      <td>1033.689941</td>\n",
              "      <td>1053.050049</td>\n",
              "      <td>1053.050049</td>\n",
              "      <td>2833500</td>\n",
              "    </tr>\n",
              "    <tr>\n",
              "      <th>2</th>\n",
              "      <td>2019-06-05</td>\n",
              "      <td>1051.540039</td>\n",
              "      <td>1053.550049</td>\n",
              "      <td>1030.489990</td>\n",
              "      <td>1042.219971</td>\n",
              "      <td>1042.219971</td>\n",
              "      <td>2168400</td>\n",
              "    </tr>\n",
              "    <tr>\n",
              "      <th>3</th>\n",
              "      <td>2019-06-06</td>\n",
              "      <td>1044.989990</td>\n",
              "      <td>1047.489990</td>\n",
              "      <td>1033.699951</td>\n",
              "      <td>1044.339966</td>\n",
              "      <td>1044.339966</td>\n",
              "      <td>1703200</td>\n",
              "    </tr>\n",
              "    <tr>\n",
              "      <th>4</th>\n",
              "      <td>2019-06-07</td>\n",
              "      <td>1050.630005</td>\n",
              "      <td>1070.920044</td>\n",
              "      <td>1048.400024</td>\n",
              "      <td>1066.040039</td>\n",
              "      <td>1066.040039</td>\n",
              "      <td>1802400</td>\n",
              "    </tr>\n",
              "  </tbody>\n",
              "</table>\n",
              "</div>"
            ],
            "text/plain": [
              "         Date         Open         High  ...        Close    Adj Close   Volume\n",
              "0  2019-06-03  1065.500000  1065.500000  ...  1036.229980  1036.229980  5130600\n",
              "1  2019-06-04  1042.900024  1056.050049  ...  1053.050049  1053.050049  2833500\n",
              "2  2019-06-05  1051.540039  1053.550049  ...  1042.219971  1042.219971  2168400\n",
              "3  2019-06-06  1044.989990  1047.489990  ...  1044.339966  1044.339966  1703200\n",
              "4  2019-06-07  1050.630005  1070.920044  ...  1066.040039  1066.040039  1802400\n",
              "\n",
              "[5 rows x 7 columns]"
            ]
          },
          "metadata": {
            "tags": []
          },
          "execution_count": 20
        }
      ]
    },
    {
      "cell_type": "code",
      "metadata": {
        "id": "6cPPjjuPhPaf",
        "colab_type": "code",
        "colab": {
          "base_uri": "https://localhost:8080/",
          "height": 50
        },
        "outputId": "0352f883-4509-4ea9-bcee-af62d8488760"
      },
      "source": [
        "# get dimensions of dataset\n",
        "print(\"Rows    : \", df.shape[0])\n",
        "print(\"Columns : \", df.shape[1])"
      ],
      "execution_count": 21,
      "outputs": [
        {
          "output_type": "stream",
          "text": [
            "Rows    :  19\n",
            "Columns :  7\n"
          ],
          "name": "stdout"
        }
      ]
    },
    {
      "cell_type": "markdown",
      "metadata": {
        "id": "W_wcOB47ht_v",
        "colab_type": "text"
      },
      "source": [
        "- last row removed\n",
        "- data successfully prepared"
      ]
    },
    {
      "cell_type": "code",
      "metadata": {
        "id": "ucvobK63hPXp",
        "colab_type": "code",
        "colab": {}
      },
      "source": [
        "# get all records from the 'Date' column\n",
        "df_dates = df.loc[:,'Date']\n",
        "# get all records from the 'Open' column\n",
        "df_open = df.loc[:,'Open']"
      ],
      "execution_count": 0,
      "outputs": []
    },
    {
      "cell_type": "code",
      "metadata": {
        "id": "0-ad1ECCjKFB",
        "colab_type": "code",
        "colab": {
          "base_uri": "https://localhost:8080/",
          "height": 168
        },
        "outputId": "6bf60e07-e57c-4260-c9da-bbf89c295492"
      },
      "source": [
        "# print dataset\n",
        "print('df_dates')\n",
        "print(df_dates.head(2))\n",
        "print('\\ndf_open')\n",
        "print(df_open.head(2))"
      ],
      "execution_count": 28,
      "outputs": [
        {
          "output_type": "stream",
          "text": [
            "df_dates\n",
            "0    2019-06-03\n",
            "1    2019-06-04\n",
            "Name: Date, dtype: object\n",
            "\n",
            "df_open\n",
            "0    1065.500000\n",
            "1    1042.900024\n",
            "Name: Open, dtype: float64\n"
          ],
          "name": "stdout"
        }
      ]
    },
    {
      "cell_type": "code",
      "metadata": {
        "id": "8Z2O4ZgggJ0N",
        "colab_type": "code",
        "colab": {}
      },
      "source": [
        "# create lists to store these data\n",
        "dates = []\n",
        "prices = []"
      ],
      "execution_count": 0,
      "outputs": []
    },
    {
      "cell_type": "code",
      "metadata": {
        "id": "3_O_8J5qiG4I",
        "colab_type": "code",
        "colab": {}
      },
      "source": [
        "# create the independent dataset - X\n",
        "for date in df_dates:\n",
        "  dates.append([int(date.split('-')[2])])  # get the date and append in list, convert into int datatype then add in array"
      ],
      "execution_count": 0,
      "outputs": []
    },
    {
      "cell_type": "code",
      "metadata": {
        "id": "v9NDb1iIjpl1",
        "colab_type": "code",
        "colab": {
          "base_uri": "https://localhost:8080/",
          "height": 353
        },
        "outputId": "a5fb2425-f79a-4db1-c0cb-bce1f131f7f1"
      },
      "source": [
        "df['Date']"
      ],
      "execution_count": 35,
      "outputs": [
        {
          "output_type": "execute_result",
          "data": {
            "text/plain": [
              "0     2019-06-03\n",
              "1     2019-06-04\n",
              "2     2019-06-05\n",
              "3     2019-06-06\n",
              "4     2019-06-07\n",
              "5     2019-06-10\n",
              "6     2019-06-11\n",
              "7     2019-06-12\n",
              "8     2019-06-13\n",
              "9     2019-06-14\n",
              "10    2019-06-17\n",
              "11    2019-06-18\n",
              "12    2019-06-19\n",
              "13    2019-06-20\n",
              "14    2019-06-21\n",
              "15    2019-06-24\n",
              "16    2019-06-25\n",
              "17    2019-06-26\n",
              "18    2019-06-27\n",
              "Name: Date, dtype: object"
            ]
          },
          "metadata": {
            "tags": []
          },
          "execution_count": 35
        }
      ]
    },
    {
      "cell_type": "code",
      "metadata": {
        "id": "3098kG6yiGsX",
        "colab_type": "code",
        "colab": {
          "base_uri": "https://localhost:8080/",
          "height": 34
        },
        "outputId": "7d21b6b4-503f-4fbd-d0c8-1736d2a541d7"
      },
      "source": [
        "print(dates) "
      ],
      "execution_count": 36,
      "outputs": [
        {
          "output_type": "stream",
          "text": [
            "[[3], [4], [5], [6], [7], [10], [11], [12], [13], [14], [17], [18], [19], [20], [21], [24], [25], [26], [27]]\n"
          ],
          "name": "stdout"
        }
      ]
    },
    {
      "cell_type": "code",
      "metadata": {
        "id": "i95Emd5WiGqo",
        "colab_type": "code",
        "colab": {}
      },
      "source": [
        "# create the dependent dataset - y\n",
        "for i in df_open:\n",
        "  prices.append(i)"
      ],
      "execution_count": 0,
      "outputs": []
    },
    {
      "cell_type": "code",
      "metadata": {
        "id": "xmvh_FObiGnu",
        "colab_type": "code",
        "colab": {
          "base_uri": "https://localhost:8080/",
          "height": 336
        },
        "outputId": "1a253eb5-9585-438a-86ad-9a525cf994db"
      },
      "source": [
        "prices"
      ],
      "execution_count": 38,
      "outputs": [
        {
          "output_type": "execute_result",
          "data": {
            "text/plain": [
              "[1065.5,\n",
              " 1042.900024,\n",
              " 1051.540039,\n",
              " 1044.98999,\n",
              " 1050.630005,\n",
              " 1072.97998,\n",
              " 1093.97998,\n",
              " 1078.0,\n",
              " 1083.640015,\n",
              " 1086.420044,\n",
              " 1086.280029,\n",
              " 1109.689941,\n",
              " 1105.599976,\n",
              " 1119.98999,\n",
              " 1109.23999,\n",
              " 1119.609985,\n",
              " 1112.660034,\n",
              " 1086.5,\n",
              " 1084.0]"
            ]
          },
          "metadata": {
            "tags": []
          },
          "execution_count": 38
        }
      ]
    },
    {
      "cell_type": "markdown",
      "metadata": {
        "id": "GCWdGNfvj7CA",
        "colab_type": "text"
      },
      "source": [
        "## 4. Model Building"
      ]
    },
    {
      "cell_type": "code",
      "metadata": {
        "id": "G55ZQcQrj6M2",
        "colab_type": "code",
        "colab": {}
      },
      "source": [
        "# import libraries\n",
        "from sklearn.linear_model import LinearRegression\n",
        "from sklearn.svm import SVR # Support Vector Regressor\n",
        "from sklearn.model_selection import train_test_split"
      ],
      "execution_count": 0,
      "outputs": []
    },
    {
      "cell_type": "code",
      "metadata": {
        "id": "1aLc1goRgaow",
        "colab_type": "code",
        "colab": {}
      },
      "source": [
        "# UDF for model prediction - Regression\n",
        "def predict_prices(dates, prices, x): # x - date\n",
        "\n",
        "  # create 3 Support Vector Regression models\n",
        "  svr_lin = SVR(kernel='linear', C=1e3)\n",
        "  svr_poly = SVR(kernel='poly', C=1e3, degree=2)\n",
        "  svr_rbf = SVR(kernel='rbf', C=1e3, gamma=0.1)\n",
        "\n",
        "  # train the SVR models\n",
        "  svr_lin.fit(dates, prices)\n",
        "  svr_poly.fit(dates, prices)\n",
        "  svr_rbf.fit(dates, prices)\n",
        "\n",
        "  # create a Linear Regression model\n",
        "  lin_reg = LinearRegression()\n",
        "\n",
        "  # train Linear Regression model\n",
        "  lin_reg.fit(dates, prices)\n",
        "\n",
        "  # plot the models to see the best fit\n",
        "  plt.scatter(dates, prices, color='black', label='Data')\n",
        "  plt.plot(dates, svr_lin.predict(dates), color='green', label='SVR LIN')\n",
        "  plt.plot(dates, svr_poly.predict(dates), color='blue', label='SVR POLY')\n",
        "  plt.plot(dates, svr_rbf.predict(dates), color='red', label='SVR RBF')\n",
        "  plt.plot(dates, lin_reg.predict(dates), color='orange', label='LIN REG')\n",
        "  plt.xlabel('Days')\n",
        "  plt.ylabel('Price')\n",
        "  plt.title('Regression')\n",
        "  plt.legend()\n",
        "  plt.show()\n",
        "\n",
        "  # return model\n",
        "  return svr_lin.predict(x)[0], svr_rbf.predict(x)[0], svr_poly.predict(x)[0], lin_reg.predict(x)[0]\n"
      ],
      "execution_count": 0,
      "outputs": []
    },
    {
      "cell_type": "code",
      "metadata": {
        "id": "tZhAvAKVlvWj",
        "colab_type": "code",
        "colab": {
          "base_uri": "https://localhost:8080/",
          "height": 362
        },
        "outputId": "a3b05508-08ec-4f7a-bc33-f8695aa70038"
      },
      "source": [
        "# predict the price of Google on day = 28 (2019-06-28)\n",
        "# Expecting a price = 1076.390015\n",
        "predicted_price = predict_prices(dates, prices, [[28]])\n",
        "predicted_price\n"
      ],
      "execution_count": 48,
      "outputs": [
        {
          "output_type": "display_data",
          "data": {
            "image/png": "[encoded data removed]",
            "text/plain": [
              "<Figure size 432x288 with 1 Axes>"
            ]
          },
          "metadata": {
            "tags": []
          }
        },
        {
          "output_type": "execute_result",
          "data": {
            "text/plain": [
              "(1133.3133133337788,\n",
              " 1091.7058004910944,\n",
              " 1139.5478482146918,\n",
              " 1117.7087934280248)"
            ]
          },
          "metadata": {
            "tags": []
          },
          "execution_count": 48
        }
      ]
    },
    {
      "cell_type": "markdown",
      "metadata": {
        "id": "0M3zdIdYmxFI",
        "colab_type": "text"
      },
      "source": [
        "## Observations\n",
        "- The linear **Support Vector Regression (svr_lin)** model predicts the price the closest\n",
        "- Then Linear Regression model predicted the second closest model\n",
        "- SVR RBF model overfitted the dataset"
      ]
    }
  ]
}